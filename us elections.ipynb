{
 "cells": [
  {
   "cell_type": "code",
   "execution_count": 7,
   "id": "8c9181a3",
   "metadata": {},
   "outputs": [
    {
     "data": {
      "text/html": [
       "        <script type=\"text/javascript\">\n",
       "        window.PlotlyConfig = {MathJaxConfig: 'local'};\n",
       "        if (window.MathJax) {MathJax.Hub.Config({SVG: {font: \"STIX-Web\"}});}\n",
       "        if (typeof require !== 'undefined') {\n",
       "        require.undef(\"plotly\");\n",
       "        requirejs.config({\n",
       "            paths: {\n",
       "                'plotly': ['https://cdn.plot.ly/plotly-2.6.3.min']\n",
       "            }\n",
       "        });\n",
       "        require(['plotly'], function(Plotly) {\n",
       "            window._Plotly = Plotly;\n",
       "        });\n",
       "        }\n",
       "        </script>\n",
       "        "
      ]
     },
     "metadata": {},
     "output_type": "display_data"
    },
    {
     "name": "stdout",
     "output_type": "stream",
     "text": [
      "Loading...\n",
      "100%...necessary libraries imported\n"
     ]
    }
   ],
   "source": [
    "import pandas as pd\n",
    "import numpy as np\n",
    "import matplotlib.pyplot as plt\n",
    "\n",
    "#Plots\n",
    "import seaborn as sns\n",
    "import matplotlib.pyplot as plt\n",
    "%matplotlib inline\n",
    "import plotly.offline as py\n",
    "import plotly.graph_objs as go\n",
    "from plotly.offline import download_plotlyjs, init_notebook_mode, plot, iplot\n",
    "import plotly.tools as tls\n",
    "import plotly.figure_factory as ff\n",
    "py.init_notebook_mode(connected=True)\n",
    "import squarify\n",
    "\n",
    "#ML tools\n",
    "from sklearn.model_selection import train_test_split\n",
    "from sklearn.ensemble import GradientBoostingClassifier\n",
    "from sklearn.preprocessing import MinMaxScaler\n",
    "\n",
    "print('Loading...')\n",
    "print('100%...necessary libraries imported')"
   ]
  },
  {
   "cell_type": "code",
   "execution_count": 8,
   "id": "9015070a",
   "metadata": {},
   "outputs": [
    {
     "data": {
      "text/html": [
       "<div>\n",
       "<style scoped>\n",
       "    .dataframe tbody tr th:only-of-type {\n",
       "        vertical-align: middle;\n",
       "    }\n",
       "\n",
       "    .dataframe tbody tr th {\n",
       "        vertical-align: top;\n",
       "    }\n",
       "\n",
       "    .dataframe thead th {\n",
       "        text-align: right;\n",
       "    }\n",
       "</style>\n",
       "<table border=\"1\" class=\"dataframe\">\n",
       "  <thead>\n",
       "    <tr style=\"text-align: right;\">\n",
       "      <th></th>\n",
       "      <th>Gender</th>\n",
       "      <th>Age</th>\n",
       "      <th>Income</th>\n",
       "      <th>Region</th>\n",
       "      <th>PartyID</th>\n",
       "      <th>Ideology</th>\n",
       "      <th>Vote Intention</th>\n",
       "      <th>Attention to election</th>\n",
       "    </tr>\n",
       "  </thead>\n",
       "  <tbody>\n",
       "    <tr>\n",
       "      <th>0</th>\n",
       "      <td>Male</td>\n",
       "      <td>45-65</td>\n",
       "      <td>Under $50K</td>\n",
       "      <td>West</td>\n",
       "      <td>Democratic</td>\n",
       "      <td>Liberal</td>\n",
       "      <td>Trump</td>\n",
       "      <td>A lot</td>\n",
       "    </tr>\n",
       "    <tr>\n",
       "      <th>1</th>\n",
       "      <td>Male</td>\n",
       "      <td>65+</td>\n",
       "      <td>$50-100K</td>\n",
       "      <td>West</td>\n",
       "      <td>Independent</td>\n",
       "      <td>Modern Liberal</td>\n",
       "      <td>Trump</td>\n",
       "      <td>A lot</td>\n",
       "    </tr>\n",
       "    <tr>\n",
       "      <th>2</th>\n",
       "      <td>Male</td>\n",
       "      <td>30-44</td>\n",
       "      <td>Under $50K</td>\n",
       "      <td>Midwest</td>\n",
       "      <td>Democratic</td>\n",
       "      <td>Conservative</td>\n",
       "      <td>Trump</td>\n",
       "      <td>A lot</td>\n",
       "    </tr>\n",
       "    <tr>\n",
       "      <th>3</th>\n",
       "      <td>Male</td>\n",
       "      <td>30-44</td>\n",
       "      <td>Under $50K</td>\n",
       "      <td>Northeast</td>\n",
       "      <td>Democratic</td>\n",
       "      <td>Liberal</td>\n",
       "      <td>Biden</td>\n",
       "      <td>A lot</td>\n",
       "    </tr>\n",
       "    <tr>\n",
       "      <th>4</th>\n",
       "      <td>Male</td>\n",
       "      <td>45-65</td>\n",
       "      <td>Under $50K</td>\n",
       "      <td>Midwest</td>\n",
       "      <td>Republican</td>\n",
       "      <td>Conservative</td>\n",
       "      <td>Trump</td>\n",
       "      <td>A lot</td>\n",
       "    </tr>\n",
       "    <tr>\n",
       "      <th>...</th>\n",
       "      <td>...</td>\n",
       "      <td>...</td>\n",
       "      <td>...</td>\n",
       "      <td>...</td>\n",
       "      <td>...</td>\n",
       "      <td>...</td>\n",
       "      <td>...</td>\n",
       "      <td>...</td>\n",
       "    </tr>\n",
       "    <tr>\n",
       "      <th>1194</th>\n",
       "      <td>Female</td>\n",
       "      <td>18-29</td>\n",
       "      <td>Under $50K</td>\n",
       "      <td>South</td>\n",
       "      <td>Democratic</td>\n",
       "      <td>Liberal</td>\n",
       "      <td>Trump</td>\n",
       "      <td>A lot</td>\n",
       "    </tr>\n",
       "    <tr>\n",
       "      <th>1195</th>\n",
       "      <td>Female</td>\n",
       "      <td>45-65</td>\n",
       "      <td>$50-100K</td>\n",
       "      <td>South</td>\n",
       "      <td>Democratic</td>\n",
       "      <td>Modern Liberal</td>\n",
       "      <td>Biden</td>\n",
       "      <td>A lot</td>\n",
       "    </tr>\n",
       "    <tr>\n",
       "      <th>1196</th>\n",
       "      <td>Female</td>\n",
       "      <td>65+</td>\n",
       "      <td>Under $50K</td>\n",
       "      <td>Midwest</td>\n",
       "      <td>Democratic</td>\n",
       "      <td>Liberal</td>\n",
       "      <td>Trump</td>\n",
       "      <td>Some</td>\n",
       "    </tr>\n",
       "    <tr>\n",
       "      <th>1197</th>\n",
       "      <td>Female</td>\n",
       "      <td>45-65</td>\n",
       "      <td>$50-100K</td>\n",
       "      <td>South</td>\n",
       "      <td>Independent</td>\n",
       "      <td>Conservative</td>\n",
       "      <td>Biden</td>\n",
       "      <td>Some</td>\n",
       "    </tr>\n",
       "    <tr>\n",
       "      <th>1198</th>\n",
       "      <td>Female</td>\n",
       "      <td>45-65</td>\n",
       "      <td>$100K or more</td>\n",
       "      <td>Northeast</td>\n",
       "      <td>Independent</td>\n",
       "      <td>Conservative</td>\n",
       "      <td>Biden</td>\n",
       "      <td>Some</td>\n",
       "    </tr>\n",
       "  </tbody>\n",
       "</table>\n",
       "<p>1199 rows × 8 columns</p>\n",
       "</div>"
      ],
      "text/plain": [
       "      Gender    Age         Income     Region      PartyID        Ideology  \\\n",
       "0       Male  45-65     Under $50K       West   Democratic         Liberal   \n",
       "1       Male    65+       $50-100K       West  Independent  Modern Liberal   \n",
       "2       Male  30-44     Under $50K    Midwest   Democratic    Conservative   \n",
       "3       Male  30-44     Under $50K  Northeast   Democratic         Liberal   \n",
       "4       Male  45-65     Under $50K    Midwest   Republican    Conservative   \n",
       "...      ...    ...            ...        ...          ...             ...   \n",
       "1194  Female  18-29     Under $50K      South   Democratic         Liberal   \n",
       "1195  Female  45-65       $50-100K      South   Democratic  Modern Liberal   \n",
       "1196  Female    65+     Under $50K    Midwest   Democratic         Liberal   \n",
       "1197  Female  45-65       $50-100K      South  Independent    Conservative   \n",
       "1198  Female  45-65  $100K or more  Northeast  Independent    Conservative   \n",
       "\n",
       "     Vote Intention Attention to election  \n",
       "0             Trump                 A lot  \n",
       "1             Trump                 A lot  \n",
       "2             Trump                 A lot  \n",
       "3             Biden                 A lot  \n",
       "4             Trump                 A lot  \n",
       "...             ...                   ...  \n",
       "1194          Trump                 A lot  \n",
       "1195          Biden                 A lot  \n",
       "1196          Trump                  Some  \n",
       "1197          Biden                  Some  \n",
       "1198          Biden                  Some  \n",
       "\n",
       "[1199 rows x 8 columns]"
      ]
     },
     "execution_count": 8,
     "metadata": {},
     "output_type": "execute_result"
    }
   ],
   "source": [
    "data = pd.read_excel('improvised_data_train.xlsx')\n",
    "data"
   ]
  },
  {
   "cell_type": "code",
   "execution_count": 9,
   "id": "8ac063cd",
   "metadata": {},
   "outputs": [
    {
     "name": "stdout",
     "output_type": "stream",
     "text": [
      "<class 'pandas.core.frame.DataFrame'>\n",
      "RangeIndex: 1199 entries, 0 to 1198\n",
      "Data columns (total 8 columns):\n",
      " #   Column                 Non-Null Count  Dtype \n",
      "---  ------                 --------------  ----- \n",
      " 0   Gender                 1199 non-null   object\n",
      " 1   Age                    1199 non-null   object\n",
      " 2   Income                 1199 non-null   object\n",
      " 3   Region                 1199 non-null   object\n",
      " 4   PartyID                1199 non-null   object\n",
      " 5   Ideology               1199 non-null   object\n",
      " 6   Vote Intention         1199 non-null   object\n",
      " 7   Attention to election  1199 non-null   object\n",
      "dtypes: object(8)\n",
      "memory usage: 75.1+ KB\n"
     ]
    }
   ],
   "source": [
    "data.info()"
   ]
  },
  {
   "cell_type": "code",
   "execution_count": 10,
   "id": "4ec11f6a",
   "metadata": {},
   "outputs": [
    {
     "data": {
      "text/plain": [
       "Index(['Gender', 'Age', 'Income', 'Region', 'PartyID', 'Ideology',\n",
       "       'Vote Intention', 'Attention to election'],\n",
       "      dtype='object')"
      ]
     },
     "execution_count": 10,
     "metadata": {},
     "output_type": "execute_result"
    }
   ],
   "source": [
    "data.columns"
   ]
  },
  {
   "cell_type": "code",
   "execution_count": 11,
   "id": "90ff1611",
   "metadata": {},
   "outputs": [
    {
     "data": {
      "text/plain": [
       "Male      683\n",
       "Female    516\n",
       "Name: Gender, dtype: int64"
      ]
     },
     "execution_count": 11,
     "metadata": {},
     "output_type": "execute_result"
    }
   ],
   "source": [
    "data.Gender.value_counts()"
   ]
  },
  {
   "cell_type": "code",
   "execution_count": 12,
   "id": "a3a7e021",
   "metadata": {},
   "outputs": [
    {
     "data": {
      "text/plain": [
       "45-65    506\n",
       "65+      312\n",
       "30-44    242\n",
       "18-29    139\n",
       "Name: Age, dtype: int64"
      ]
     },
     "execution_count": 12,
     "metadata": {},
     "output_type": "execute_result"
    }
   ],
   "source": [
    "data.Age.value_counts()"
   ]
  },
  {
   "cell_type": "code",
   "execution_count": 13,
   "id": "8b1b46b9",
   "metadata": {},
   "outputs": [
    {
     "data": {
      "text/plain": [
       "Under $50K       510\n",
       "$50-100K         414\n",
       "$100K or more    275\n",
       "Name: Income, dtype: int64"
      ]
     },
     "execution_count": 13,
     "metadata": {},
     "output_type": "execute_result"
    }
   ],
   "source": [
    "data.Income.value_counts()"
   ]
  },
  {
   "cell_type": "code",
   "execution_count": 14,
   "id": "ff2cc0bd",
   "metadata": {},
   "outputs": [
    {
     "data": {
      "text/plain": [
       "South        469\n",
       "West         312\n",
       "Midwest      214\n",
       "Northeast    204\n",
       "Name: Region, dtype: int64"
      ]
     },
     "execution_count": 14,
     "metadata": {},
     "output_type": "execute_result"
    }
   ],
   "source": [
    "data.Region.value_counts()"
   ]
  },
  {
   "cell_type": "code",
   "execution_count": 16,
   "id": "1dda0cee",
   "metadata": {},
   "outputs": [
    {
     "data": {
      "text/plain": [
       "Democratic     434\n",
       "Independent    431\n",
       "Republican     334\n",
       "Name: PartyID, dtype: int64"
      ]
     },
     "execution_count": 16,
     "metadata": {},
     "output_type": "execute_result"
    }
   ],
   "source": [
    "data.PartyID.value_counts()"
   ]
  },
  {
   "cell_type": "code",
   "execution_count": 17,
   "id": "f6b00628",
   "metadata": {},
   "outputs": [
    {
     "data": {
      "text/plain": [
       "Conservative      444\n",
       "Liberal           383\n",
       "Modern Liberal    372\n",
       "Name: Ideology, dtype: int64"
      ]
     },
     "execution_count": 17,
     "metadata": {},
     "output_type": "execute_result"
    }
   ],
   "source": [
    "data.Ideology.value_counts()"
   ]
  },
  {
   "cell_type": "code",
   "execution_count": 18,
   "id": "962f87db",
   "metadata": {},
   "outputs": [
    {
     "data": {
      "text/plain": [
       "A lot            1018\n",
       "Some              119\n",
       "Only a little      62\n",
       "Name: Attention to election, dtype: int64"
      ]
     },
     "execution_count": 18,
     "metadata": {},
     "output_type": "execute_result"
    }
   ],
   "source": [
    "data['Attention to election'].value_counts()"
   ]
  },
  {
   "cell_type": "code",
   "execution_count": 19,
   "id": "f387af5e",
   "metadata": {},
   "outputs": [],
   "source": [
    "data.columns = ['Gender', 'Age', 'Income', 'Region', 'PartyID', 'Ideology', 'Target', 'Attention to election']"
   ]
  },
  {
   "cell_type": "code",
   "execution_count": 20,
   "id": "65484e21",
   "metadata": {},
   "outputs": [
    {
     "data": {
      "text/html": [
       "<div>\n",
       "<style scoped>\n",
       "    .dataframe tbody tr th:only-of-type {\n",
       "        vertical-align: middle;\n",
       "    }\n",
       "\n",
       "    .dataframe tbody tr th {\n",
       "        vertical-align: top;\n",
       "    }\n",
       "\n",
       "    .dataframe thead th {\n",
       "        text-align: right;\n",
       "    }\n",
       "</style>\n",
       "<table border=\"1\" class=\"dataframe\">\n",
       "  <thead>\n",
       "    <tr style=\"text-align: right;\">\n",
       "      <th></th>\n",
       "      <th>Gender</th>\n",
       "      <th>Age</th>\n",
       "      <th>Income</th>\n",
       "      <th>Region</th>\n",
       "      <th>PartyID</th>\n",
       "      <th>Ideology</th>\n",
       "      <th>Target</th>\n",
       "      <th>Attention to election</th>\n",
       "    </tr>\n",
       "  </thead>\n",
       "  <tbody>\n",
       "    <tr>\n",
       "      <th>0</th>\n",
       "      <td>Male</td>\n",
       "      <td>45-65</td>\n",
       "      <td>Under $50K</td>\n",
       "      <td>West</td>\n",
       "      <td>Democratic</td>\n",
       "      <td>Liberal</td>\n",
       "      <td>Trump</td>\n",
       "      <td>A lot</td>\n",
       "    </tr>\n",
       "    <tr>\n",
       "      <th>1</th>\n",
       "      <td>Male</td>\n",
       "      <td>65+</td>\n",
       "      <td>$50-100K</td>\n",
       "      <td>West</td>\n",
       "      <td>Independent</td>\n",
       "      <td>Modern Liberal</td>\n",
       "      <td>Trump</td>\n",
       "      <td>A lot</td>\n",
       "    </tr>\n",
       "    <tr>\n",
       "      <th>2</th>\n",
       "      <td>Male</td>\n",
       "      <td>30-44</td>\n",
       "      <td>Under $50K</td>\n",
       "      <td>Midwest</td>\n",
       "      <td>Democratic</td>\n",
       "      <td>Conservative</td>\n",
       "      <td>Trump</td>\n",
       "      <td>A lot</td>\n",
       "    </tr>\n",
       "    <tr>\n",
       "      <th>3</th>\n",
       "      <td>Male</td>\n",
       "      <td>30-44</td>\n",
       "      <td>Under $50K</td>\n",
       "      <td>Northeast</td>\n",
       "      <td>Democratic</td>\n",
       "      <td>Liberal</td>\n",
       "      <td>Biden</td>\n",
       "      <td>A lot</td>\n",
       "    </tr>\n",
       "    <tr>\n",
       "      <th>4</th>\n",
       "      <td>Male</td>\n",
       "      <td>45-65</td>\n",
       "      <td>Under $50K</td>\n",
       "      <td>Midwest</td>\n",
       "      <td>Republican</td>\n",
       "      <td>Conservative</td>\n",
       "      <td>Trump</td>\n",
       "      <td>A lot</td>\n",
       "    </tr>\n",
       "    <tr>\n",
       "      <th>...</th>\n",
       "      <td>...</td>\n",
       "      <td>...</td>\n",
       "      <td>...</td>\n",
       "      <td>...</td>\n",
       "      <td>...</td>\n",
       "      <td>...</td>\n",
       "      <td>...</td>\n",
       "      <td>...</td>\n",
       "    </tr>\n",
       "    <tr>\n",
       "      <th>1194</th>\n",
       "      <td>Female</td>\n",
       "      <td>18-29</td>\n",
       "      <td>Under $50K</td>\n",
       "      <td>South</td>\n",
       "      <td>Democratic</td>\n",
       "      <td>Liberal</td>\n",
       "      <td>Trump</td>\n",
       "      <td>A lot</td>\n",
       "    </tr>\n",
       "    <tr>\n",
       "      <th>1195</th>\n",
       "      <td>Female</td>\n",
       "      <td>45-65</td>\n",
       "      <td>$50-100K</td>\n",
       "      <td>South</td>\n",
       "      <td>Democratic</td>\n",
       "      <td>Modern Liberal</td>\n",
       "      <td>Biden</td>\n",
       "      <td>A lot</td>\n",
       "    </tr>\n",
       "    <tr>\n",
       "      <th>1196</th>\n",
       "      <td>Female</td>\n",
       "      <td>65+</td>\n",
       "      <td>Under $50K</td>\n",
       "      <td>Midwest</td>\n",
       "      <td>Democratic</td>\n",
       "      <td>Liberal</td>\n",
       "      <td>Trump</td>\n",
       "      <td>Some</td>\n",
       "    </tr>\n",
       "    <tr>\n",
       "      <th>1197</th>\n",
       "      <td>Female</td>\n",
       "      <td>45-65</td>\n",
       "      <td>$50-100K</td>\n",
       "      <td>South</td>\n",
       "      <td>Independent</td>\n",
       "      <td>Conservative</td>\n",
       "      <td>Biden</td>\n",
       "      <td>Some</td>\n",
       "    </tr>\n",
       "    <tr>\n",
       "      <th>1198</th>\n",
       "      <td>Female</td>\n",
       "      <td>45-65</td>\n",
       "      <td>$100K or more</td>\n",
       "      <td>Northeast</td>\n",
       "      <td>Independent</td>\n",
       "      <td>Conservative</td>\n",
       "      <td>Biden</td>\n",
       "      <td>Some</td>\n",
       "    </tr>\n",
       "  </tbody>\n",
       "</table>\n",
       "<p>1199 rows × 8 columns</p>\n",
       "</div>"
      ],
      "text/plain": [
       "      Gender    Age         Income     Region      PartyID        Ideology  \\\n",
       "0       Male  45-65     Under $50K       West   Democratic         Liberal   \n",
       "1       Male    65+       $50-100K       West  Independent  Modern Liberal   \n",
       "2       Male  30-44     Under $50K    Midwest   Democratic    Conservative   \n",
       "3       Male  30-44     Under $50K  Northeast   Democratic         Liberal   \n",
       "4       Male  45-65     Under $50K    Midwest   Republican    Conservative   \n",
       "...      ...    ...            ...        ...          ...             ...   \n",
       "1194  Female  18-29     Under $50K      South   Democratic         Liberal   \n",
       "1195  Female  45-65       $50-100K      South   Democratic  Modern Liberal   \n",
       "1196  Female    65+     Under $50K    Midwest   Democratic         Liberal   \n",
       "1197  Female  45-65       $50-100K      South  Independent    Conservative   \n",
       "1198  Female  45-65  $100K or more  Northeast  Independent    Conservative   \n",
       "\n",
       "     Target Attention to election  \n",
       "0     Trump                 A lot  \n",
       "1     Trump                 A lot  \n",
       "2     Trump                 A lot  \n",
       "3     Biden                 A lot  \n",
       "4     Trump                 A lot  \n",
       "...     ...                   ...  \n",
       "1194  Trump                 A lot  \n",
       "1195  Biden                 A lot  \n",
       "1196  Trump                  Some  \n",
       "1197  Biden                  Some  \n",
       "1198  Biden                  Some  \n",
       "\n",
       "[1199 rows x 8 columns]"
      ]
     },
     "execution_count": 20,
     "metadata": {},
     "output_type": "execute_result"
    }
   ],
   "source": [
    "data"
   ]
  },
  {
   "cell_type": "markdown",
   "id": "63bdeeaa",
   "metadata": {},
   "source": [
    "# Citizens who paid attention to election\n"
   ]
  },
  {
   "cell_type": "code",
   "execution_count": 21,
   "id": "1a6f7a6c",
   "metadata": {},
   "outputs": [
    {
     "data": {
      "text/plain": [
       "Age    Gender\n",
       "18-29  Female     67\n",
       "       Male       72\n",
       "30-44  Female    107\n",
       "       Male      135\n",
       "45-65  Female    211\n",
       "       Male      295\n",
       "65+    Female    131\n",
       "       Male      181\n",
       "Name: Attention to election, dtype: int64"
      ]
     },
     "execution_count": 21,
     "metadata": {},
     "output_type": "execute_result"
    }
   ],
   "source": [
    "data.groupby(['Age', 'Gender']).count()['Attention to election']"
   ]
  },
  {
   "cell_type": "code",
   "execution_count": 22,
   "id": "60ec5acb",
   "metadata": {},
   "outputs": [
    {
     "data": {
      "text/plain": [
       "Text(0.5, 1.0, 'Attention to election')"
      ]
     },
     "execution_count": 22,
     "metadata": {},
     "output_type": "execute_result"
    },
    {
     "data": {
      "image/png": "[encoded data removed]",
      "text/plain": [
       "<Figure size 864x576 with 1 Axes>"
      ]
     },
     "metadata": {
      "needs_background": "light"
     },
     "output_type": "display_data"
    }
   ],
   "source": [
    "plt.figure(figsize=(12,8))\n",
    "x_gender = ['Female', 'Male']\n",
    "x_indexes = np.arange(len(x_gender))\n",
    "width = 0.1 \n",
    "\n",
    "y_18 = [103, 72]\n",
    "plt.bar(x_indexes + 0.1, y_18, width = width ,label = '18-29')\n",
    "\n",
    "y_30 = [168, 135]\n",
    "plt.bar(x_indexes - 0.1, y_30, width = width, label = '30-44')\n",
    "\n",
    "y_45 = [327, 295]\n",
    "plt.bar(x_indexes, y_45, width = width, label = '45-65')\n",
    "\n",
    "y_65plus = [219, 181]\n",
    "plt.bar(x_indexes + 0.2, y_65plus, width = width, label = '65+')\n",
    "\n",
    "plt.legend()\n",
    "\n",
    "plt.xlabel('Gender', fontsize=18)\n",
    "plt.xticks(ticks = x_indexes, labels = x_gender, fontsize = 12)\n",
    "plt.yticks(fontsize = 14)\n",
    "plt.title('Attention to election', fontsize=22)"
   ]
  },
  {
   "cell_type": "markdown",
   "id": "7d65c102",
   "metadata": {},
   "source": [
    "# PartyID count by Gender"
   ]
  },
  {
   "cell_type": "code",
   "execution_count": 23,
   "id": "04dd8840",
   "metadata": {},
   "outputs": [
    {
     "data": {
      "text/plain": [
       "PartyID      Gender\n",
       "Democratic   Female    192\n",
       "             Male      242\n",
       "Independent  Female    191\n",
       "             Male      240\n",
       "Republican   Female    133\n",
       "             Male      201\n",
       "Name: Ideology, dtype: int64"
      ]
     },
     "execution_count": 23,
     "metadata": {},
     "output_type": "execute_result"
    }
   ],
   "source": [
    "data.groupby(['PartyID', 'Gender']).count()['Ideology']"
   ]
  },
  {
   "cell_type": "code",
   "execution_count": 24,
   "id": "a700f75e",
   "metadata": {},
   "outputs": [
    {
     "data": {
      "text/plain": [
       "Text(0.5, 1.0, 'PartyID count by Gender')"
      ]
     },
     "execution_count": 24,
     "metadata": {},
     "output_type": "execute_result"
    },
    {
     "data": {
      "image/png": "[encoded data removed]",
      "text/plain": [
       "<Figure size 864x576 with 1 Axes>"
      ]
     },
     "metadata": {
      "needs_background": "light"
     },
     "output_type": "display_data"
    }
   ],
   "source": [
    "plt.figure(figsize=(12,8))\n",
    "x_gender = ['Female', 'Male']\n",
    "x_indexes = np.arange(len(x_gender))\n",
    "width = 0.1 \n",
    "\n",
    "y_demo = [304, 242]\n",
    "plt.bar(x_indexes + 0.1, y_demo, width = width ,label = 'Democratic')\n",
    "\n",
    "y_ind = [297, 240]\n",
    "plt.bar(x_indexes - 0.1, y_ind, width = width, label = 'Independent')\n",
    "\n",
    "y_rep = [216, 201]\n",
    "plt.bar(x_indexes, y_rep, width = width, label = 'Republic')\n",
    "\n",
    "\n",
    "plt.legend()\n",
    "\n",
    "plt.xlabel('Gender', fontsize=18)\n",
    "plt.xticks(ticks = x_indexes, labels = x_gender, fontsize = 12)\n",
    "plt.title('PartyID count by Gender', fontsize=22)"
   ]
  },
  {
   "cell_type": "code",
   "execution_count": null,
   "id": "f283c2e5",
   "metadata": {},
   "outputs": [],
   "source": []
  }
 ],
 "metadata": {
  "kernelspec": {
   "display_name": "Python 3",
   "language": "python",
   "name": "python3"
  },
  "language_info": {
   "codemirror_mode": {
    "name": "ipython",
    "version": 3
   },
   "file_extension": ".py",
   "mimetype": "text/x-python",
   "name": "python",
   "nbconvert_exporter": "python",
   "pygments_lexer": "ipython3",
   "version": "3.8.8"
  }
 },
 "nbformat": 4,
 "nbformat_minor": 5
}
