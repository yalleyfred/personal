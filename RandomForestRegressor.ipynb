{
 "cells": [
  {
   "cell_type": "code",
   "execution_count": 1,
   "id": "391c2313",
   "metadata": {},
   "outputs": [],
   "source": [
    "import pandas as pd\n",
    "import numpy as np\n",
    "import matplotlib.pyplot as plt\n",
    "from sklearn.model_selection import train_test_split\n",
    "from sklearn.linear_model import LinearRegression\n",
    "from sklearn.tree import DecisionTreeRegressor\n",
    "from sklearn.ensemble import RandomForestRegressor"
   ]
  },
  {
   "cell_type": "code",
   "execution_count": 2,
   "id": "89bd7742",
   "metadata": {},
   "outputs": [
    {
     "data": {
      "text/html": [
       "<div>\n",
       "<style scoped>\n",
       "    .dataframe tbody tr th:only-of-type {\n",
       "        vertical-align: middle;\n",
       "    }\n",
       "\n",
       "    .dataframe tbody tr th {\n",
       "        vertical-align: top;\n",
       "    }\n",
       "\n",
       "    .dataframe thead th {\n",
       "        text-align: right;\n",
       "    }\n",
       "</style>\n",
       "<table border=\"1\" class=\"dataframe\">\n",
       "  <thead>\n",
       "    <tr style=\"text-align: right;\">\n",
       "      <th></th>\n",
       "      <th>REGION</th>\n",
       "      <th>DISTRICT</th>\n",
       "      <th>YEAR</th>\n",
       "      <th>CROP</th>\n",
       "      <th>AREA (HA)</th>\n",
       "      <th>YIELD (MT/HA)</th>\n",
       "      <th>PRODUCTION (MT)</th>\n",
       "    </tr>\n",
       "  </thead>\n",
       "  <tbody>\n",
       "    <tr>\n",
       "      <th>0</th>\n",
       "      <td>WESTERN</td>\n",
       "      <td>SHAMA AHANTA EAST</td>\n",
       "      <td>2008</td>\n",
       "      <td>MAIZE</td>\n",
       "      <td>1099.0</td>\n",
       "      <td>1.15</td>\n",
       "      <td>1263.85</td>\n",
       "    </tr>\n",
       "    <tr>\n",
       "      <th>1</th>\n",
       "      <td>WESTERN</td>\n",
       "      <td>WEST AHANTA</td>\n",
       "      <td>2008</td>\n",
       "      <td>MAIZE</td>\n",
       "      <td>1433.0</td>\n",
       "      <td>1.19</td>\n",
       "      <td>1705.27</td>\n",
       "    </tr>\n",
       "    <tr>\n",
       "      <th>2</th>\n",
       "      <td>WESTERN</td>\n",
       "      <td>MPORHOR WASSA EAST</td>\n",
       "      <td>2008</td>\n",
       "      <td>MAIZE</td>\n",
       "      <td>2034.0</td>\n",
       "      <td>1.32</td>\n",
       "      <td>2684.88</td>\n",
       "    </tr>\n",
       "    <tr>\n",
       "      <th>3</th>\n",
       "      <td>WESTERN</td>\n",
       "      <td>WASSA WEST</td>\n",
       "      <td>2008</td>\n",
       "      <td>MAIZE</td>\n",
       "      <td>2204.0</td>\n",
       "      <td>1.20</td>\n",
       "      <td>2644.80</td>\n",
       "    </tr>\n",
       "    <tr>\n",
       "      <th>4</th>\n",
       "      <td>WESTERN</td>\n",
       "      <td>EAST NZEMA</td>\n",
       "      <td>2008</td>\n",
       "      <td>MAIZE</td>\n",
       "      <td>1550.0</td>\n",
       "      <td>1.38</td>\n",
       "      <td>2139.00</td>\n",
       "    </tr>\n",
       "    <tr>\n",
       "      <th>...</th>\n",
       "      <td>...</td>\n",
       "      <td>...</td>\n",
       "      <td>...</td>\n",
       "      <td>...</td>\n",
       "      <td>...</td>\n",
       "      <td>...</td>\n",
       "      <td>...</td>\n",
       "    </tr>\n",
       "    <tr>\n",
       "      <th>8231</th>\n",
       "      <td>NORTHERN REGION</td>\n",
       "      <td>MAMPRUGU MOAGDURI</td>\n",
       "      <td>2017</td>\n",
       "      <td>CASSAVA</td>\n",
       "      <td>900.0</td>\n",
       "      <td>7.95</td>\n",
       "      <td>7155.00</td>\n",
       "    </tr>\n",
       "    <tr>\n",
       "      <th>8232</th>\n",
       "      <td>NORTHERN REGION</td>\n",
       "      <td>YENDI</td>\n",
       "      <td>2017</td>\n",
       "      <td>CASSAVA</td>\n",
       "      <td>4790.0</td>\n",
       "      <td>13.59</td>\n",
       "      <td>65096.10</td>\n",
       "    </tr>\n",
       "    <tr>\n",
       "      <th>8233</th>\n",
       "      <td>NORTHERN REGION</td>\n",
       "      <td>MION</td>\n",
       "      <td>2017</td>\n",
       "      <td>CASSAVA</td>\n",
       "      <td>3831.0</td>\n",
       "      <td>6.96</td>\n",
       "      <td>26663.76</td>\n",
       "    </tr>\n",
       "    <tr>\n",
       "      <th>8234</th>\n",
       "      <td>NORTHERN REGION</td>\n",
       "      <td>TATALE SANGULI</td>\n",
       "      <td>2017</td>\n",
       "      <td>CASSAVA</td>\n",
       "      <td>5192.0</td>\n",
       "      <td>13.85</td>\n",
       "      <td>71909.20</td>\n",
       "    </tr>\n",
       "    <tr>\n",
       "      <th>8235</th>\n",
       "      <td>NORTHERN REGION</td>\n",
       "      <td>ZABZUGU</td>\n",
       "      <td>2017</td>\n",
       "      <td>CASSAVA</td>\n",
       "      <td>4612.0</td>\n",
       "      <td>13.85</td>\n",
       "      <td>63876.20</td>\n",
       "    </tr>\n",
       "  </tbody>\n",
       "</table>\n",
       "<p>8236 rows × 7 columns</p>\n",
       "</div>"
      ],
      "text/plain": [
       "               REGION            DISTRICT  YEAR     CROP  AREA (HA)  \\\n",
       "0             WESTERN   SHAMA AHANTA EAST  2008    MAIZE     1099.0   \n",
       "1             WESTERN         WEST AHANTA  2008    MAIZE     1433.0   \n",
       "2             WESTERN  MPORHOR WASSA EAST  2008    MAIZE     2034.0   \n",
       "3             WESTERN          WASSA WEST  2008    MAIZE     2204.0   \n",
       "4             WESTERN          EAST NZEMA  2008    MAIZE     1550.0   \n",
       "...               ...                 ...   ...      ...        ...   \n",
       "8231  NORTHERN REGION   MAMPRUGU MOAGDURI  2017  CASSAVA      900.0   \n",
       "8232  NORTHERN REGION               YENDI  2017  CASSAVA     4790.0   \n",
       "8233  NORTHERN REGION                MION  2017  CASSAVA     3831.0   \n",
       "8234  NORTHERN REGION      TATALE SANGULI  2017  CASSAVA     5192.0   \n",
       "8235  NORTHERN REGION             ZABZUGU  2017  CASSAVA     4612.0   \n",
       "\n",
       "     YIELD (MT/HA) PRODUCTION (MT)  \n",
       "0             1.15         1263.85  \n",
       "1             1.19         1705.27  \n",
       "2             1.32         2684.88  \n",
       "3             1.20         2644.80  \n",
       "4             1.38         2139.00  \n",
       "...            ...             ...  \n",
       "8231          7.95         7155.00  \n",
       "8232         13.59        65096.10  \n",
       "8233          6.96        26663.76  \n",
       "8234         13.85        71909.20  \n",
       "8235         13.85        63876.20  \n",
       "\n",
       "[8236 rows x 7 columns]"
      ]
     },
     "execution_count": 2,
     "metadata": {},
     "output_type": "execute_result"
    }
   ],
   "source": [
    "pro_est_df = pd.read_csv('PRODUCTION ESTIMATES.csv')\n",
    "pro_est_df"
   ]
  },
  {
   "cell_type": "code",
   "execution_count": 3,
   "id": "cd1df357",
   "metadata": {},
   "outputs": [],
   "source": [
    "pro_est_df = pro_est_df.fillna(0)"
   ]
  },
  {
   "cell_type": "code",
   "execution_count": 4,
   "id": "c134056c",
   "metadata": {},
   "outputs": [],
   "source": [
    "pro_est_df = pro_est_df.replace(\"                           -    \", 0)"
   ]
  },
  {
   "cell_type": "code",
   "execution_count": 5,
   "id": "89644a5a",
   "metadata": {},
   "outputs": [],
   "source": [
    "pro_est_df = pro_est_df.replace(\" -   \", 0)"
   ]
  },
  {
   "cell_type": "code",
   "execution_count": 6,
   "id": "b233f0a3",
   "metadata": {},
   "outputs": [],
   "source": [
    "pro_est_df = pro_est_df.replace(\" - \", 0)"
   ]
  },
  {
   "cell_type": "code",
   "execution_count": 7,
   "id": "91f7306f",
   "metadata": {},
   "outputs": [],
   "source": [
    "pro_est_df['AREA (HA)'] = pd.to_numeric(pro_est_df['AREA (HA)'])"
   ]
  },
  {
   "cell_type": "code",
   "execution_count": 8,
   "id": "173f1120",
   "metadata": {},
   "outputs": [],
   "source": [
    "pro_est_df['YIELD (MT/HA)'] = pd.to_numeric(pro_est_df['YIELD (MT/HA)'])"
   ]
  },
  {
   "cell_type": "code",
   "execution_count": 9,
   "id": "c00e300f",
   "metadata": {},
   "outputs": [],
   "source": [
    "pro_est_df['PRODUCTION (MT)'] = pd.to_numeric(pro_est_df['PRODUCTION (MT)'])"
   ]
  },
  {
   "cell_type": "code",
   "execution_count": 10,
   "id": "2313c43a",
   "metadata": {},
   "outputs": [
    {
     "name": "stdout",
     "output_type": "stream",
     "text": [
      "<class 'pandas.core.frame.DataFrame'>\n",
      "RangeIndex: 8236 entries, 0 to 8235\n",
      "Data columns (total 7 columns):\n",
      " #   Column           Non-Null Count  Dtype  \n",
      "---  ------           --------------  -----  \n",
      " 0   REGION           8236 non-null   object \n",
      " 1   DISTRICT         8236 non-null   object \n",
      " 2   YEAR             8236 non-null   int64  \n",
      " 3   CROP             8236 non-null   object \n",
      " 4   AREA (HA)        8236 non-null   float64\n",
      " 5   YIELD (MT/HA)    8236 non-null   float64\n",
      " 6   PRODUCTION (MT)  8236 non-null   float64\n",
      "dtypes: float64(3), int64(1), object(3)\n",
      "memory usage: 450.5+ KB\n"
     ]
    }
   ],
   "source": [
    "pro_est_df.info()"
   ]
  },
  {
   "cell_type": "markdown",
   "id": "7c51db6c",
   "metadata": {},
   "source": [
    "## finding the correlation of the columns"
   ]
  },
  {
   "cell_type": "code",
   "execution_count": 11,
   "id": "fa6c3004",
   "metadata": {},
   "outputs": [
    {
     "data": {
      "text/html": [
       "<div>\n",
       "<style scoped>\n",
       "    .dataframe tbody tr th:only-of-type {\n",
       "        vertical-align: middle;\n",
       "    }\n",
       "\n",
       "    .dataframe tbody tr th {\n",
       "        vertical-align: top;\n",
       "    }\n",
       "\n",
       "    .dataframe thead th {\n",
       "        text-align: right;\n",
       "    }\n",
       "</style>\n",
       "<table border=\"1\" class=\"dataframe\">\n",
       "  <thead>\n",
       "    <tr style=\"text-align: right;\">\n",
       "      <th></th>\n",
       "      <th>YEAR</th>\n",
       "      <th>AREA (HA)</th>\n",
       "      <th>YIELD (MT/HA)</th>\n",
       "      <th>PRODUCTION (MT)</th>\n",
       "    </tr>\n",
       "  </thead>\n",
       "  <tbody>\n",
       "    <tr>\n",
       "      <th>YEAR</th>\n",
       "      <td>1.000000</td>\n",
       "      <td>-0.115683</td>\n",
       "      <td>0.059953</td>\n",
       "      <td>-0.013695</td>\n",
       "    </tr>\n",
       "    <tr>\n",
       "      <th>AREA (HA)</th>\n",
       "      <td>-0.115683</td>\n",
       "      <td>1.000000</td>\n",
       "      <td>0.140375</td>\n",
       "      <td>0.574871</td>\n",
       "    </tr>\n",
       "    <tr>\n",
       "      <th>YIELD (MT/HA)</th>\n",
       "      <td>0.059953</td>\n",
       "      <td>0.140375</td>\n",
       "      <td>1.000000</td>\n",
       "      <td>0.652473</td>\n",
       "    </tr>\n",
       "    <tr>\n",
       "      <th>PRODUCTION (MT)</th>\n",
       "      <td>-0.013695</td>\n",
       "      <td>0.574871</td>\n",
       "      <td>0.652473</td>\n",
       "      <td>1.000000</td>\n",
       "    </tr>\n",
       "  </tbody>\n",
       "</table>\n",
       "</div>"
      ],
      "text/plain": [
       "                     YEAR  AREA (HA)  YIELD (MT/HA)  PRODUCTION (MT)\n",
       "YEAR             1.000000  -0.115683       0.059953        -0.013695\n",
       "AREA (HA)       -0.115683   1.000000       0.140375         0.574871\n",
       "YIELD (MT/HA)    0.059953   0.140375       1.000000         0.652473\n",
       "PRODUCTION (MT) -0.013695   0.574871       0.652473         1.000000"
      ]
     },
     "execution_count": 11,
     "metadata": {},
     "output_type": "execute_result"
    }
   ],
   "source": [
    "corr = pro_est_df.corr()\n",
    "corr"
   ]
  },
  {
   "cell_type": "markdown",
   "id": "e0ffc28a",
   "metadata": {},
   "source": [
    "## Encoding the object columns; changing classes to numbers"
   ]
  },
  {
   "cell_type": "code",
   "execution_count": 12,
   "id": "fc0d7602",
   "metadata": {},
   "outputs": [
    {
     "data": {
      "text/plain": [
       "ASHANTI            1635\n",
       "BRONG AHAFO        1254\n",
       "EASTERN            1203\n",
       "WESTERN             971\n",
       "VOLTA               965\n",
       "CENTRAL             756\n",
       "UPPER WEST          707\n",
       "UPPER EAST          637\n",
       "NORTHERN REGION      78\n",
       "GREATER ACCRA        30\n",
       "Name: REGION, dtype: int64"
      ]
     },
     "execution_count": 12,
     "metadata": {},
     "output_type": "execute_result"
    }
   ],
   "source": [
    "pro_est_df.REGION.value_counts()"
   ]
  },
  {
   "cell_type": "code",
   "execution_count": 13,
   "id": "472653ab",
   "metadata": {},
   "outputs": [],
   "source": [
    "pro_est_df = pro_est_df.replace('MAIZE ', 'MAIZE')\n",
    "pro_est_df = pro_est_df.replace('RICE ', 'RICE')"
   ]
  },
  {
   "cell_type": "code",
   "execution_count": 14,
   "id": "bd3c5d87",
   "metadata": {
    "scrolled": true
   },
   "outputs": [
    {
     "data": {
      "text/plain": [
       "MAIZE        1369\n",
       "CASSAVA      1184\n",
       "YAM          1133\n",
       "RICE         1065\n",
       "PLANTAIN     1061\n",
       "COCOYAM       994\n",
       "COWPEA        434\n",
       "GROUNDNUT     344\n",
       "SORGHUM       262\n",
       "SOYABEAN      208\n",
       "MILLET        182\n",
       "Name: CROP, dtype: int64"
      ]
     },
     "execution_count": 14,
     "metadata": {},
     "output_type": "execute_result"
    }
   ],
   "source": [
    "pro_est_df.CROP.value_counts()"
   ]
  },
  {
   "cell_type": "code",
   "execution_count": 15,
   "id": "122d1751",
   "metadata": {},
   "outputs": [
    {
     "data": {
      "text/plain": [
       "2017    1147\n",
       "2016     923\n",
       "2015     870\n",
       "2013     868\n",
       "2014     867\n",
       "2012     856\n",
       "2011     705\n",
       "2010     702\n",
       "2009     650\n",
       "2008     648\n",
       "Name: YEAR, dtype: int64"
      ]
     },
     "execution_count": 15,
     "metadata": {},
     "output_type": "execute_result"
    }
   ],
   "source": [
    "pro_est_df.YEAR.value_counts()"
   ]
  },
  {
   "cell_type": "code",
   "execution_count": 16,
   "id": "fb2036ea",
   "metadata": {},
   "outputs": [],
   "source": [
    "cleanup_nums = {\"REGION\": {\"ASHANTI\": 0, \"BRONG AHAFO\": 1, \"EASTERN\": 2, \"WESTERN\": 3,\n",
    "                           \"VOLTA\": 4, \"CENTRAL\": 5, \"UPPER WEST\": 6,\n",
    "                           \"UPPER EAST\": 7, \"NORTHERN REGION\": 8, \"GREATER ACCRA\": 9},\n",
    "                \"CROP\": {\"MAIZE\": 0, \"CASSAVA\": 1, \"YAM\": 2, \"RICE\": 3,\n",
    "                           \"PLANTAIN\": 4, \"COCOYAM\": 5, \"COWPEA\": 6,\n",
    "                           \"GROUNDNUT\": 7, \"SORGHUM\": 8, \"SOYABEAN\": 9,\"MILLET\": 10},\n",
    "                \"YEAR\": {2008: 0, 2009: 1, 2010: 2, 2011: 3,\n",
    "                           2012: 4, 2013: 5, 2014: 6,\n",
    "                           2015: 7, 2016: 8, 2017: 9}}\n",
    "pro_est_df= pro_est_df.replace(cleanup_nums)"
   ]
  },
  {
   "cell_type": "code",
   "execution_count": 17,
   "id": "c9805ece",
   "metadata": {
    "scrolled": true
   },
   "outputs": [
    {
     "data": {
      "text/html": [
       "<div>\n",
       "<style scoped>\n",
       "    .dataframe tbody tr th:only-of-type {\n",
       "        vertical-align: middle;\n",
       "    }\n",
       "\n",
       "    .dataframe tbody tr th {\n",
       "        vertical-align: top;\n",
       "    }\n",
       "\n",
       "    .dataframe thead th {\n",
       "        text-align: right;\n",
       "    }\n",
       "</style>\n",
       "<table border=\"1\" class=\"dataframe\">\n",
       "  <thead>\n",
       "    <tr style=\"text-align: right;\">\n",
       "      <th></th>\n",
       "      <th>REGION</th>\n",
       "      <th>DISTRICT</th>\n",
       "      <th>YEAR</th>\n",
       "      <th>CROP</th>\n",
       "      <th>AREA (HA)</th>\n",
       "      <th>YIELD (MT/HA)</th>\n",
       "      <th>PRODUCTION (MT)</th>\n",
       "    </tr>\n",
       "  </thead>\n",
       "  <tbody>\n",
       "    <tr>\n",
       "      <th>0</th>\n",
       "      <td>3</td>\n",
       "      <td>SHAMA AHANTA EAST</td>\n",
       "      <td>0</td>\n",
       "      <td>0</td>\n",
       "      <td>1099.0</td>\n",
       "      <td>1.15</td>\n",
       "      <td>1263.85</td>\n",
       "    </tr>\n",
       "    <tr>\n",
       "      <th>1</th>\n",
       "      <td>3</td>\n",
       "      <td>WEST AHANTA</td>\n",
       "      <td>0</td>\n",
       "      <td>0</td>\n",
       "      <td>1433.0</td>\n",
       "      <td>1.19</td>\n",
       "      <td>1705.27</td>\n",
       "    </tr>\n",
       "    <tr>\n",
       "      <th>2</th>\n",
       "      <td>3</td>\n",
       "      <td>MPORHOR WASSA EAST</td>\n",
       "      <td>0</td>\n",
       "      <td>0</td>\n",
       "      <td>2034.0</td>\n",
       "      <td>1.32</td>\n",
       "      <td>2684.88</td>\n",
       "    </tr>\n",
       "    <tr>\n",
       "      <th>3</th>\n",
       "      <td>3</td>\n",
       "      <td>WASSA WEST</td>\n",
       "      <td>0</td>\n",
       "      <td>0</td>\n",
       "      <td>2204.0</td>\n",
       "      <td>1.20</td>\n",
       "      <td>2644.80</td>\n",
       "    </tr>\n",
       "    <tr>\n",
       "      <th>4</th>\n",
       "      <td>3</td>\n",
       "      <td>EAST NZEMA</td>\n",
       "      <td>0</td>\n",
       "      <td>0</td>\n",
       "      <td>1550.0</td>\n",
       "      <td>1.38</td>\n",
       "      <td>2139.00</td>\n",
       "    </tr>\n",
       "    <tr>\n",
       "      <th>...</th>\n",
       "      <td>...</td>\n",
       "      <td>...</td>\n",
       "      <td>...</td>\n",
       "      <td>...</td>\n",
       "      <td>...</td>\n",
       "      <td>...</td>\n",
       "      <td>...</td>\n",
       "    </tr>\n",
       "    <tr>\n",
       "      <th>8231</th>\n",
       "      <td>8</td>\n",
       "      <td>MAMPRUGU MOAGDURI</td>\n",
       "      <td>9</td>\n",
       "      <td>1</td>\n",
       "      <td>900.0</td>\n",
       "      <td>7.95</td>\n",
       "      <td>7155.00</td>\n",
       "    </tr>\n",
       "    <tr>\n",
       "      <th>8232</th>\n",
       "      <td>8</td>\n",
       "      <td>YENDI</td>\n",
       "      <td>9</td>\n",
       "      <td>1</td>\n",
       "      <td>4790.0</td>\n",
       "      <td>13.59</td>\n",
       "      <td>65096.10</td>\n",
       "    </tr>\n",
       "    <tr>\n",
       "      <th>8233</th>\n",
       "      <td>8</td>\n",
       "      <td>MION</td>\n",
       "      <td>9</td>\n",
       "      <td>1</td>\n",
       "      <td>3831.0</td>\n",
       "      <td>6.96</td>\n",
       "      <td>26663.76</td>\n",
       "    </tr>\n",
       "    <tr>\n",
       "      <th>8234</th>\n",
       "      <td>8</td>\n",
       "      <td>TATALE SANGULI</td>\n",
       "      <td>9</td>\n",
       "      <td>1</td>\n",
       "      <td>5192.0</td>\n",
       "      <td>13.85</td>\n",
       "      <td>71909.20</td>\n",
       "    </tr>\n",
       "    <tr>\n",
       "      <th>8235</th>\n",
       "      <td>8</td>\n",
       "      <td>ZABZUGU</td>\n",
       "      <td>9</td>\n",
       "      <td>1</td>\n",
       "      <td>4612.0</td>\n",
       "      <td>13.85</td>\n",
       "      <td>63876.20</td>\n",
       "    </tr>\n",
       "  </tbody>\n",
       "</table>\n",
       "<p>8236 rows × 7 columns</p>\n",
       "</div>"
      ],
      "text/plain": [
       "      REGION            DISTRICT  YEAR  CROP  AREA (HA)  YIELD (MT/HA)  \\\n",
       "0          3   SHAMA AHANTA EAST     0     0     1099.0           1.15   \n",
       "1          3         WEST AHANTA     0     0     1433.0           1.19   \n",
       "2          3  MPORHOR WASSA EAST     0     0     2034.0           1.32   \n",
       "3          3          WASSA WEST     0     0     2204.0           1.20   \n",
       "4          3          EAST NZEMA     0     0     1550.0           1.38   \n",
       "...      ...                 ...   ...   ...        ...            ...   \n",
       "8231       8   MAMPRUGU MOAGDURI     9     1      900.0           7.95   \n",
       "8232       8               YENDI     9     1     4790.0          13.59   \n",
       "8233       8                MION     9     1     3831.0           6.96   \n",
       "8234       8      TATALE SANGULI     9     1     5192.0          13.85   \n",
       "8235       8             ZABZUGU     9     1     4612.0          13.85   \n",
       "\n",
       "      PRODUCTION (MT)  \n",
       "0             1263.85  \n",
       "1             1705.27  \n",
       "2             2684.88  \n",
       "3             2644.80  \n",
       "4             2139.00  \n",
       "...               ...  \n",
       "8231          7155.00  \n",
       "8232         65096.10  \n",
       "8233         26663.76  \n",
       "8234         71909.20  \n",
       "8235         63876.20  \n",
       "\n",
       "[8236 rows x 7 columns]"
      ]
     },
     "execution_count": 17,
     "metadata": {},
     "output_type": "execute_result"
    }
   ],
   "source": [
    "pro_est_df"
   ]
  },
  {
   "cell_type": "code",
   "execution_count": 18,
   "id": "db5e4242",
   "metadata": {},
   "outputs": [],
   "source": [
    "pro_est_df = pro_est_df.drop('DISTRICT', axis = 1)"
   ]
  },
  {
   "cell_type": "code",
   "execution_count": 19,
   "id": "d011e93e",
   "metadata": {
    "scrolled": true
   },
   "outputs": [
    {
     "data": {
      "text/html": [
       "<div>\n",
       "<style scoped>\n",
       "    .dataframe tbody tr th:only-of-type {\n",
       "        vertical-align: middle;\n",
       "    }\n",
       "\n",
       "    .dataframe tbody tr th {\n",
       "        vertical-align: top;\n",
       "    }\n",
       "\n",
       "    .dataframe thead th {\n",
       "        text-align: right;\n",
       "    }\n",
       "</style>\n",
       "<table border=\"1\" class=\"dataframe\">\n",
       "  <thead>\n",
       "    <tr style=\"text-align: right;\">\n",
       "      <th></th>\n",
       "      <th>REGION</th>\n",
       "      <th>YEAR</th>\n",
       "      <th>CROP</th>\n",
       "      <th>AREA (HA)</th>\n",
       "      <th>YIELD (MT/HA)</th>\n",
       "      <th>PRODUCTION (MT)</th>\n",
       "    </tr>\n",
       "  </thead>\n",
       "  <tbody>\n",
       "    <tr>\n",
       "      <th>0</th>\n",
       "      <td>3</td>\n",
       "      <td>0</td>\n",
       "      <td>0</td>\n",
       "      <td>1099.0</td>\n",
       "      <td>1.15</td>\n",
       "      <td>1263.85</td>\n",
       "    </tr>\n",
       "    <tr>\n",
       "      <th>1</th>\n",
       "      <td>3</td>\n",
       "      <td>0</td>\n",
       "      <td>0</td>\n",
       "      <td>1433.0</td>\n",
       "      <td>1.19</td>\n",
       "      <td>1705.27</td>\n",
       "    </tr>\n",
       "    <tr>\n",
       "      <th>2</th>\n",
       "      <td>3</td>\n",
       "      <td>0</td>\n",
       "      <td>0</td>\n",
       "      <td>2034.0</td>\n",
       "      <td>1.32</td>\n",
       "      <td>2684.88</td>\n",
       "    </tr>\n",
       "    <tr>\n",
       "      <th>3</th>\n",
       "      <td>3</td>\n",
       "      <td>0</td>\n",
       "      <td>0</td>\n",
       "      <td>2204.0</td>\n",
       "      <td>1.20</td>\n",
       "      <td>2644.80</td>\n",
       "    </tr>\n",
       "    <tr>\n",
       "      <th>4</th>\n",
       "      <td>3</td>\n",
       "      <td>0</td>\n",
       "      <td>0</td>\n",
       "      <td>1550.0</td>\n",
       "      <td>1.38</td>\n",
       "      <td>2139.00</td>\n",
       "    </tr>\n",
       "    <tr>\n",
       "      <th>...</th>\n",
       "      <td>...</td>\n",
       "      <td>...</td>\n",
       "      <td>...</td>\n",
       "      <td>...</td>\n",
       "      <td>...</td>\n",
       "      <td>...</td>\n",
       "    </tr>\n",
       "    <tr>\n",
       "      <th>8231</th>\n",
       "      <td>8</td>\n",
       "      <td>9</td>\n",
       "      <td>1</td>\n",
       "      <td>900.0</td>\n",
       "      <td>7.95</td>\n",
       "      <td>7155.00</td>\n",
       "    </tr>\n",
       "    <tr>\n",
       "      <th>8232</th>\n",
       "      <td>8</td>\n",
       "      <td>9</td>\n",
       "      <td>1</td>\n",
       "      <td>4790.0</td>\n",
       "      <td>13.59</td>\n",
       "      <td>65096.10</td>\n",
       "    </tr>\n",
       "    <tr>\n",
       "      <th>8233</th>\n",
       "      <td>8</td>\n",
       "      <td>9</td>\n",
       "      <td>1</td>\n",
       "      <td>3831.0</td>\n",
       "      <td>6.96</td>\n",
       "      <td>26663.76</td>\n",
       "    </tr>\n",
       "    <tr>\n",
       "      <th>8234</th>\n",
       "      <td>8</td>\n",
       "      <td>9</td>\n",
       "      <td>1</td>\n",
       "      <td>5192.0</td>\n",
       "      <td>13.85</td>\n",
       "      <td>71909.20</td>\n",
       "    </tr>\n",
       "    <tr>\n",
       "      <th>8235</th>\n",
       "      <td>8</td>\n",
       "      <td>9</td>\n",
       "      <td>1</td>\n",
       "      <td>4612.0</td>\n",
       "      <td>13.85</td>\n",
       "      <td>63876.20</td>\n",
       "    </tr>\n",
       "  </tbody>\n",
       "</table>\n",
       "<p>8236 rows × 6 columns</p>\n",
       "</div>"
      ],
      "text/plain": [
       "      REGION  YEAR  CROP  AREA (HA)  YIELD (MT/HA)  PRODUCTION (MT)\n",
       "0          3     0     0     1099.0           1.15          1263.85\n",
       "1          3     0     0     1433.0           1.19          1705.27\n",
       "2          3     0     0     2034.0           1.32          2684.88\n",
       "3          3     0     0     2204.0           1.20          2644.80\n",
       "4          3     0     0     1550.0           1.38          2139.00\n",
       "...      ...   ...   ...        ...            ...              ...\n",
       "8231       8     9     1      900.0           7.95          7155.00\n",
       "8232       8     9     1     4790.0          13.59         65096.10\n",
       "8233       8     9     1     3831.0           6.96         26663.76\n",
       "8234       8     9     1     5192.0          13.85         71909.20\n",
       "8235       8     9     1     4612.0          13.85         63876.20\n",
       "\n",
       "[8236 rows x 6 columns]"
      ]
     },
     "execution_count": 19,
     "metadata": {},
     "output_type": "execute_result"
    }
   ],
   "source": [
    "pro_est_df"
   ]
  },
  {
   "cell_type": "code",
   "execution_count": 20,
   "id": "86821106",
   "metadata": {},
   "outputs": [],
   "source": [
    "y = pro_est_df['YIELD (MT/HA)']\n",
    "X = pro_est_df.drop(['YIELD (MT/HA)'], axis = 1)"
   ]
  },
  {
   "cell_type": "code",
   "execution_count": 21,
   "id": "97f47343",
   "metadata": {},
   "outputs": [],
   "source": [
    "X_train, X_test, y_train, y_test = train_test_split(X, y, test_size = 0.2, random_state = 14)"
   ]
  },
  {
   "cell_type": "code",
   "execution_count": 22,
   "id": "cb594e3a",
   "metadata": {},
   "outputs": [],
   "source": [
    "model = RandomForestRegressor()"
   ]
  },
  {
   "cell_type": "code",
   "execution_count": 23,
   "id": "06058772",
   "metadata": {},
   "outputs": [
    {
     "data": {
      "text/plain": [
       "RandomForestRegressor()"
      ]
     },
     "execution_count": 23,
     "metadata": {},
     "output_type": "execute_result"
    }
   ],
   "source": [
    "model.fit(X_train, y_train)"
   ]
  },
  {
   "cell_type": "code",
   "execution_count": 24,
   "id": "e25759ba",
   "metadata": {},
   "outputs": [
    {
     "data": {
      "text/plain": [
       "0.987185013090853"
      ]
     },
     "execution_count": 24,
     "metadata": {},
     "output_type": "execute_result"
    }
   ],
   "source": [
    "model.score(X_test, y_test)"
   ]
  },
  {
   "cell_type": "code",
   "execution_count": 25,
   "id": "97b70a04",
   "metadata": {},
   "outputs": [
    {
     "data": {
      "text/plain": [
       "array([2.971 , 0.8509, 7.1404, ..., 1.145 , 4.3261, 1.1347])"
      ]
     },
     "execution_count": 25,
     "metadata": {},
     "output_type": "execute_result"
    }
   ],
   "source": [
    "model.predict(X_test)"
   ]
  },
  {
   "cell_type": "code",
   "execution_count": 26,
   "id": "55ac7352",
   "metadata": {},
   "outputs": [
    {
     "data": {
      "text/plain": [
       "7984     2.97\n",
       "7047     0.85\n",
       "2597     7.00\n",
       "3804     3.44\n",
       "3372     6.50\n",
       "        ...  \n",
       "2262    16.20\n",
       "6749     1.40\n",
       "4015     1.25\n",
       "3255     4.30\n",
       "2212     1.12\n",
       "Name: YIELD (MT/HA), Length: 1648, dtype: float64"
      ]
     },
     "execution_count": 26,
     "metadata": {},
     "output_type": "execute_result"
    }
   ],
   "source": [
    "y_test"
   ]
  },
  {
   "cell_type": "code",
   "execution_count": null,
   "id": "856829ff",
   "metadata": {},
   "outputs": [],
   "source": []
  }
 ],
 "metadata": {
  "kernelspec": {
   "display_name": "Python 3",
   "language": "python",
   "name": "python3"
  },
  "language_info": {
   "codemirror_mode": {
    "name": "ipython",
    "version": 3
   },
   "file_extension": ".py",
   "mimetype": "text/x-python",
   "name": "python",
   "nbconvert_exporter": "python",
   "pygments_lexer": "ipython3",
   "version": "3.8.8"
  }
 },
 "nbformat": 4,
 "nbformat_minor": 5
}
